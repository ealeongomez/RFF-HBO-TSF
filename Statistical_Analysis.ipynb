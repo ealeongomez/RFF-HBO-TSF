{
 "cells": [
  {
   "cell_type": "code",
   "execution_count": 10,
   "metadata": {},
   "outputs": [],
   "source": [
    "import pickle\n",
    "import pandas as pd"
   ]
  },
  {
   "cell_type": "code",
   "execution_count": 12,
   "metadata": {},
   "outputs": [],
   "source": [
    "pkl_filename = \"./Data/data_dict.pkl\"\n",
    "\n",
    "with open(pkl_filename, \"rb\") as f:\n",
    "    data_dict = pickle.load(f)"
   ]
  },
  {
   "cell_type": "code",
   "execution_count": 19,
   "metadata": {},
   "outputs": [],
   "source": [
    "stats_list = []\n",
    "\n",
    "for key in list(data_dict.keys())[:-3]:  # Assuming you want the first three datasets\n",
    "    dataset = data_dict[key][\"time_series\"]\n",
    "    stats = {'Dataset': key, 'Mean': dataset.mean(), 'StdDev': dataset.std(), 'Min': dataset.min(), 'Max': dataset.max()}\n",
    "    stats_list.append(stats)\n",
    "\n",
    "# Create a DataFrame from the statistics\n",
    "stats_df = pd.DataFrame(stats_list)    "
   ]
  },
  {
   "cell_type": "code",
   "execution_count": 20,
   "metadata": {},
   "outputs": [
    {
     "name": "stdout",
     "output_type": "stream",
     "text": [
      "         Dataset      Mean    StdDev       Min  Max\n",
      "0  Etiopia-April  0.661178  0.133981  0.074893  1.0\n",
      "1    Etiopia-May  0.478733  0.172032  0.030721  1.0\n",
      "2         Argone  0.224532  0.118088  0.000000  1.0\n",
      "3        Beijing  0.145063  0.111588  0.000000  1.0\n",
      "4        Chengdu  0.105024  0.088247  0.000000  1.0\n",
      "5   Netherland-0  0.206681  0.115449  0.000000  1.0\n",
      "6   Netherland-1  0.229588  0.125398  0.000000  1.0\n",
      "7   Netherland-2  0.193633  0.105624  0.000000  1.0\n"
     ]
    }
   ],
   "source": [
    "print(stats_df)"
   ]
  }
 ],
 "metadata": {
  "kernelspec": {
   "display_name": "venv",
   "language": "python",
   "name": "python3"
  },
  "language_info": {
   "codemirror_mode": {
    "name": "ipython",
    "version": 3
   },
   "file_extension": ".py",
   "mimetype": "text/x-python",
   "name": "python",
   "nbconvert_exporter": "python",
   "pygments_lexer": "ipython3",
   "version": "3.13.1"
  }
 },
 "nbformat": 4,
 "nbformat_minor": 2
}
